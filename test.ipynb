{
 "cells": [
  {
   "cell_type": "code",
   "execution_count": 1,
   "metadata": {},
   "outputs": [],
   "source": [
    "#  1.  a =for i in a:\n",
    "#      (1)  删除列表中重复元素\n",
    "#      (2)  对列表a排序得到列表b\n",
    "#      (3)  对b中偶数位置数据加3然后对b列表求和"
   ]
  },
  {
   "cell_type": "code",
   "execution_count": 2,
   "metadata": {},
   "outputs": [],
   "source": [
    "a =  [6,  8,  10,  3,  11,  20,  56,  3,  10,  20]"
   ]
  },
  {
   "cell_type": "code",
   "execution_count": 4,
   "metadata": {},
   "outputs": [
    {
     "data": {
      "text/plain": [
       "[6, 8, 10, 3, 11, 20, 56]"
      ]
     },
     "execution_count": 4,
     "metadata": {},
     "output_type": "execute_result"
    }
   ],
   "source": [
    "for i, value in enumerate(a):\n",
    "    if value in a[:i-1]:\n",
    "        a.pop()\n",
    "a"
   ]
  },
  {
   "cell_type": "code",
   "execution_count": 5,
   "metadata": {},
   "outputs": [
    {
     "data": {
      "text/plain": [
       "[3, 6, 8, 10, 11, 20, 56]"
      ]
     },
     "execution_count": 5,
     "metadata": {},
     "output_type": "execute_result"
    }
   ],
   "source": [
    "list(set([6,  8,  10,  3,  11,  20,  56,  3,  10,  20]))"
   ]
  },
  {
   "cell_type": "code",
   "execution_count": 6,
   "metadata": {},
   "outputs": [
    {
     "data": {
      "text/plain": [
       "[3, 3, 6, 8, 10, 10, 11, 20, 20, 56]"
      ]
     },
     "execution_count": 6,
     "metadata": {},
     "output_type": "execute_result"
    }
   ],
   "source": [
    "sorted([6,  8,  10,  3,  11,  20,  56,  3,  10,  20])"
   ]
  },
  {
   "cell_type": "code",
   "execution_count": 12,
   "metadata": {},
   "outputs": [
    {
     "name": "stdout",
     "output_type": "stream",
     "text": [
      "[3, 3, 6, 8, 10, 10, 11, 20, 20, 56]\n",
      "[6, 3, 9, 8, 13, 10, 14, 20, 23, 56]\n"
     ]
    },
    {
     "data": {
      "text/plain": [
       "162"
      ]
     },
     "execution_count": 12,
     "metadata": {},
     "output_type": "execute_result"
    }
   ],
   "source": [
    "b = sorted([6,  8,  10,  3,  11,  20,  56,  3,  10,  20])\n",
    "print(b)\n",
    "for i, value in enumerate(b):\n",
    "      if i % 2 == 0:\n",
    "            b[i] += 3\n",
    "print(b)\n",
    "sum(b)"
   ]
  },
  {
   "cell_type": "code",
   "execution_count": 15,
   "metadata": {},
   "outputs": [
    {
     "name": "stdout",
     "output_type": "stream",
     "text": [
      "[3, 3, 6, 8, 10, 10, 11, 20, 20, 56]\n",
      "[6, 3, 9, 8, 13, 10, 14, 20, 23, 56]\n"
     ]
    }
   ],
   "source": [
    "# (3)\n",
    "b = sorted([6,  8,  10,  3,  11,  20,  56,  3,  10,  20])\n",
    "print(b)\n",
    "print([value+3 if i%2 == 0 else value for i, value in enumerate(b)])"
   ]
  },
  {
   "cell_type": "code",
   "execution_count": 21,
   "metadata": {},
   "outputs": [
    {
     "name": "stdout",
     "output_type": "stream",
     "text": [
      "[3, 3, 6, 8, 10, 10, 11, 20, 20, 56]\n"
     ]
    },
    {
     "data": {
      "text/plain": [
       "162"
      ]
     },
     "execution_count": 21,
     "metadata": {},
     "output_type": "execute_result"
    }
   ],
   "source": [
    "# map reduce\n",
    "b = sorted([6,  8,  10,  3,  11,  20,  56,  3,  10,  20])\n",
    "print(b)\n",
    "reduce(lambda x, y: x+y, [value+3 if i%2 == 0 else value for i, value in enumerate(b)])"
   ]
  },
  {
   "cell_type": "code",
   "execution_count": 22,
   "metadata": {},
   "outputs": [],
   "source": [
    "#  2.  用python统计一本英文书籍内每个单词的出现频率，\n",
    "#   (1)统计出现频率最高的前10个单词及其出现次数（标点符号可忽略）\n",
    "#  （2）创建文件对象f后，解释f的readlines和xreadlines方法的区别？\n",
    "#  （3）追加需求：引号内元素需要算作一个单词，如何实现？"
   ]
  },
  {
   "cell_type": "code",
   "execution_count": 27,
   "metadata": {},
   "outputs": [
    {
     "data": {
      "text/plain": [
       "{b'hello': 1, b'world': 1, b'good': 3, b'morning': 1, b'noon': 1, b'night': 1}"
      ]
     },
     "execution_count": 27,
     "metadata": {},
     "output_type": "execute_result"
    }
   ],
   "source": [
    "from collections import Counter, defaultdict\n",
    "\n",
    "result = {}\n",
    "with open('test.txt', 'rb') as f:\n",
    "    for row in f.readlines():\n",
    "        for word in row.split():\n",
    "            if result.get(word) is None:\n",
    "                result[word] = 1\n",
    "            else:\n",
    "                result[word] += 1\n",
    "result"
   ]
  },
  {
   "cell_type": "code",
   "execution_count": 1,
   "metadata": {},
   "outputs": [],
   "source": [
    "%edit test.txt"
   ]
  },
  {
   "cell_type": "code",
   "execution_count": 28,
   "metadata": {},
   "outputs": [],
   "source": [
    "# (2) xreadlines返回一个生成器\n",
    "# (3) stack "
   ]
  },
  {
   "cell_type": "code",
   "execution_count": 29,
   "metadata": {},
   "outputs": [],
   "source": [
    "#  3.  学生表字段:  id,  姓名，性别，班级，  语文分数，  数学分数，历史分数\n",
    "\n",
    "#  （1）写sql获取总分排名前十的学生姓名，性别，该学生总分。\n",
    "> select name, gender, (chinese+math+history) as score from table group by name order by score"
   ]
  },
  {
   "cell_type": "code",
   "execution_count": 36,
   "metadata": {},
   "outputs": [],
   "source": [
    "from functools import wraps\n",
    "import time\n",
    "\n",
    "def func_wrap(func):\n",
    "    @wraps(func)\n",
    "    def wrapper(*args, **kwargs):\n",
    "        start_time = time.time()\n",
    "        func(*args, **kwargs)\n",
    "        used_time = time.time() - start_time\n",
    "        print('func', func.__name__, 'used_time', used_time)\n",
    "    return wrapper"
   ]
  },
  {
   "cell_type": "code",
   "execution_count": 42,
   "metadata": {},
   "outputs": [],
   "source": [
    "@func_wrap\n",
    "def get_all_user():\n",
    "    for i in range(100000):\n",
    "        pass"
   ]
  },
  {
   "cell_type": "code",
   "execution_count": 43,
   "metadata": {},
   "outputs": [
    {
     "name": "stdout",
     "output_type": "stream",
     "text": [
      "func get_all_user used_time 0.0039958953857421875\n"
     ]
    }
   ],
   "source": [
    "get_all_user()"
   ]
  },
  {
   "cell_type": "markdown",
   "metadata": {},
   "source": [
    "## Convert spreadsheet number to column letter"
   ]
  },
  {
   "cell_type": "code",
   "execution_count": 45,
   "metadata": {},
   "outputs": [],
   "source": [
    "def convert(number):\n",
    "    result = ''\n",
    "    import string\n",
    "    uppercase = string.ascii_uppercase\n",
    "    chars = {0: 'Z'}\n",
    "    for i, v in zip(range(1, len(uppercase)+1), uppercase):\n",
    "        chars[i] = v\n",
    "    while number > 26:\n",
    "        n = number % 26\n",
    "        number  = number // 26\n",
    "        if n == 0 and number > 0:    # n为52时，是AZ，余数为0，商为2\n",
    "            number -= 1\n",
    "        result = chars[n] + result\n",
    "        print(n, number, result)\n",
    "    result = chars[number] + result\n",
    "    return result"
   ]
  },
  {
   "cell_type": "code",
   "execution_count": 46,
   "metadata": {},
   "outputs": [
    {
     "name": "stdout",
     "output_type": "stream",
     "text": [
      "23 4 W\n",
      "1 1 A\n",
      "25 1 Y\n",
      "0 1 Z\n"
     ]
    },
    {
     "data": {
      "text/plain": [
       "('DW', 'Z', 'AA', 'AY', 'AZ')"
      ]
     },
     "execution_count": 46,
     "metadata": {},
     "output_type": "execute_result"
    }
   ],
   "source": [
    "convert(127), convert(26), convert(27), convert(51), convert(52)"
   ]
  },
  {
   "cell_type": "code",
   "execution_count": null,
   "metadata": {},
   "outputs": [],
   "source": []
  }
 ],
 "metadata": {
  "kernelspec": {
   "display_name": "Python 3",
   "language": "python",
   "name": "python3"
  },
  "language_info": {
   "codemirror_mode": {
    "name": "ipython",
    "version": 3
   },
   "file_extension": ".py",
   "mimetype": "text/x-python",
   "name": "python",
   "nbconvert_exporter": "python",
   "pygments_lexer": "ipython3",
   "version": "3.7.7"
  }
 },
 "nbformat": 4,
 "nbformat_minor": 4
}
