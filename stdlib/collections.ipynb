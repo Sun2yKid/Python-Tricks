{
 "cells": [
  {
   "cell_type": "markdown",
   "metadata": {},
   "source": [
    "# collections --- 容器数据类型\n",
    "https://docs.python.org/zh-cn/3/library/collections.html\n",
    "这个模块实现了特定目标的容器，以提供Python标准内建容器 dict , list , set , 和 tuple 的替代选择。\n",
    "\n",
    "namedtuple() 创建命名元组子类的工厂函数\n",
    "\n",
    "deque 类似列表(list)的容器，实现了在两端快速添加(append)和弹出(pop)\n",
    "\n",
    "ChainMap 类似字典(dict)的容器类，将多个映射集合到一个视图里面\n",
    "\n",
    "Counter 字典的子类，提供了可哈希对象的计数功能\n",
    "\n",
    "OrderedDict 字典的子类，保存了他们被添加的顺序\n",
    "\n",
    "defaultdict 字典的子类，提供了一个工厂函数，为字典查询提供一个默认值\n",
    "\n",
    "UserDict 封装了字典对象，简化了字典子类化\n",
    "\n",
    "UserList 封装了列表对象，简化了列表子类化\n",
    "\n",
    "UserString 封装了列表对象，简化了字符串子类化"
   ]
  },
  {
   "cell_type": "code",
   "execution_count": 1,
   "metadata": {},
   "outputs": [],
   "source": [
    "import collections as cl"
   ]
  },
  {
   "cell_type": "code",
   "execution_count": 4,
   "metadata": {},
   "outputs": [
    {
     "data": {
      "text/plain": [
       "\u001b[1;31mInit signature:\u001b[0m \u001b[0mcl\u001b[0m\u001b[1;33m.\u001b[0m\u001b[0mdeque\u001b[0m\u001b[1;33m(\u001b[0m\u001b[0mself\u001b[0m\u001b[1;33m,\u001b[0m \u001b[1;33m/\u001b[0m\u001b[1;33m,\u001b[0m \u001b[1;33m*\u001b[0m\u001b[0margs\u001b[0m\u001b[1;33m,\u001b[0m \u001b[1;33m**\u001b[0m\u001b[0mkwargs\u001b[0m\u001b[1;33m)\u001b[0m\u001b[1;33m\u001b[0m\u001b[0m\n",
       "\u001b[1;31mDocstring:\u001b[0m     \n",
       "deque([iterable[, maxlen]]) --> deque object\n",
       "\n",
       "A list-like sequence optimized for data accesses near its endpoints.\n",
       "\u001b[1;31mFile:\u001b[0m           c:\\users\\kid\\envs\\python3\\lib\\collections\\__init__.py\n",
       "\u001b[1;31mType:\u001b[0m           type\n",
       "\u001b[1;31mSubclasses:\u001b[0m     Deque\n"
      ]
     },
     "metadata": {},
     "output_type": "display_data"
    }
   ],
   "source": [
    "cl.deque?"
   ]
  },
  {
   "cell_type": "code",
   "execution_count": 5,
   "metadata": {},
   "outputs": [
    {
     "data": {
      "text/plain": [
       "\u001b[1;31mInit signature:\u001b[0m \u001b[0mcl\u001b[0m\u001b[1;33m.\u001b[0m\u001b[0mCounter\u001b[0m\u001b[1;33m(\u001b[0m\u001b[1;33m*\u001b[0m\u001b[0margs\u001b[0m\u001b[1;33m,\u001b[0m \u001b[1;33m**\u001b[0m\u001b[0mkwds\u001b[0m\u001b[1;33m)\u001b[0m\u001b[1;33m\u001b[0m\u001b[0m\n",
       "\u001b[1;31mDocstring:\u001b[0m     \n",
       "Dict subclass for counting hashable items.  Sometimes called a bag\n",
       "or multiset.  Elements are stored as dictionary keys and their counts\n",
       "are stored as dictionary values.\n",
       "\n",
       ">>> c = Counter('abcdeabcdabcaba')  # count elements from a string\n",
       "\n",
       ">>> c.most_common(3)                # three most common elements\n",
       "[('a', 5), ('b', 4), ('c', 3)]\n",
       ">>> sorted(c)                       # list all unique elements\n",
       "['a', 'b', 'c', 'd', 'e']\n",
       ">>> ''.join(sorted(c.elements()))   # list elements with repetitions\n",
       "'aaaaabbbbcccdde'\n",
       ">>> sum(c.values())                 # total of all counts\n",
       "15\n",
       "\n",
       ">>> c['a']                          # count of letter 'a'\n",
       "5\n",
       ">>> for elem in 'shazam':           # update counts from an iterable\n",
       "...     c[elem] += 1                # by adding 1 to each element's count\n",
       ">>> c['a']                          # now there are seven 'a'\n",
       "7\n",
       ">>> del c['b']                      # remove all 'b'\n",
       ">>> c['b']                          # now there are zero 'b'\n",
       "0\n",
       "\n",
       ">>> d = Counter('simsalabim')       # make another counter\n",
       ">>> c.update(d)                     # add in the second counter\n",
       ">>> c['a']                          # now there are nine 'a'\n",
       "9\n",
       "\n",
       ">>> c.clear()                       # empty the counter\n",
       ">>> c\n",
       "Counter()\n",
       "\n",
       "Note:  If a count is set to zero or reduced to zero, it will remain\n",
       "in the counter until the entry is deleted or the counter is cleared:\n",
       "\n",
       ">>> c = Counter('aaabbc')\n",
       ">>> c['b'] -= 2                     # reduce the count of 'b' by two\n",
       ">>> c.most_common()                 # 'b' is still in, but its count is zero\n",
       "[('a', 3), ('c', 1), ('b', 0)]\n",
       "\u001b[1;31mInit docstring:\u001b[0m\n",
       "Create a new, empty Counter object.  And if given, count elements\n",
       "from an input iterable.  Or, initialize the count from another mapping\n",
       "of elements to their counts.\n",
       "\n",
       ">>> c = Counter()                           # a new, empty counter\n",
       ">>> c = Counter('gallahad')                 # a new counter from an iterable\n",
       ">>> c = Counter({'a': 4, 'b': 2})           # a new counter from a mapping\n",
       ">>> c = Counter(a=4, b=2)                   # a new counter from keyword args\n",
       "\u001b[1;31mFile:\u001b[0m           c:\\users\\kid\\envs\\python3\\lib\\collections\\__init__.py\n",
       "\u001b[1;31mType:\u001b[0m           type\n",
       "\u001b[1;31mSubclasses:\u001b[0m     Counter\n"
      ]
     },
     "metadata": {},
     "output_type": "display_data"
    }
   ],
   "source": [
    "cl.Counter?"
   ]
  },
  {
   "cell_type": "code",
   "execution_count": null,
   "metadata": {},
   "outputs": [],
   "source": []
  }
 ],
 "metadata": {
  "kernelspec": {
   "display_name": "Python 3",
   "language": "python",
   "name": "python3"
  },
  "language_info": {
   "codemirror_mode": {
    "name": "ipython",
    "version": 3
   },
   "file_extension": ".py",
   "mimetype": "text/x-python",
   "name": "python",
   "nbconvert_exporter": "python",
   "pygments_lexer": "ipython3",
   "version": "3.6.4"
  }
 },
 "nbformat": 4,
 "nbformat_minor": 4
}
