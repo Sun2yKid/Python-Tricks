{
 "cells": [
  {
   "cell_type": "markdown",
   "metadata": {},
   "source": [
    "## Linux应用\n",
    "• 如何快速找出当前目录下最晚被修改过的文件？\n",
    "> ll -Ft | grep -v \"/$\"\n",
    "\n",
    "• 已知某个进程的pid是6666,如何找到它当前打开了哪些文件？\n",
    "> lsof -p 6666\n",
    "\n",
    "• 发现端口8001被占用，如何找出是哪个进程占用了该端口？\n",
    "> lsof -i:8001\n",
    "\n",
    "> netstat -tulpn | grep :8001\n",
    "\n",
    "• 假设有进程P持续向文件F写入数据，此时把文件F删除，进程P的写入会失败吗？磁盘占用是否会持续增加？为什么？\n",
    "> 进程P不会写入失败，磁盘占用也会继续增加。因为实际上文件因被其他进程占用而并未删除，空间也未释放，当所有占用文件的进程都结束或重启时，空间才被释放。\n",
    "\n",
    "• 给你一个文件，每行一个ip，如何用shell快速找到出现次数最多的ip？\n",
    "> awk '{print $0}' ip.txt | sort | uniq -c | sort -nr | awk 'NR==1{print $2}'\n",
    "\n",
    "• 有如下分行的数据：\n",
    "|      32742 |\n",
    "|      39013 |\n",
    "|     481472 |\n",
    "|     481658 |\n",
    "|     481885 |\n",
    "把格式转换为：32742,39013,481337,481472,481658,481885\n",
    "\n",
    "```\n",
    "awk -F ' '  '{if (NR==1) printf(\"%d\", $2); else printf(\",%d\", $2)}' test.txt\n",
    "```\n",
    "\n"
   ]
  },
  {
   "cell_type": "markdown",
   "metadata": {},
   "source": [
    "## Python\n",
    "• 为runner.py实现一个函数，检测是否有其他的runner.py进程在正在执行"
   ]
  },
  {
   "cell_type": "code",
   "execution_count": null,
   "metadata": {},
   "outputs": [],
   "source": [
    "import os\n",
    "import sys\n",
    "import subprocess\n",
    "import psutil\n",
    "import time\n",
    "\n",
    "# method 1\n",
    "def is_running1(service_name):\n",
    "    command = \"ps -ef | grep -v -e grep -e %s | grep %s\" % (os.getpid(), service_name)\n",
    "    completed_process = subprocess.run(command, capture_output=True, shell=True)\n",
    "    if completed_process.returncode == 0 and service_name in str(completed_process.stdout):\n",
    "         print('%s is running' % service_name)\n",
    "         return True\n",
    "    else:\n",
    "         print('No other %s is running or call subprocess run error' % service_name)\n",
    "         return False\n",
    "    \n",
    "# method 2, need psutil package\n",
    "def is_running2(service_name):\n",
    "    for q in psutil.process_iter():\n",
    "        for cmd in q.cmdline():\n",
    "            if service_name in cmd and q.pid != os.getpid():\n",
    "                print('%s is running, pid: %s' % (service_name, q.pid))\n",
    "                return True\n",
    "    print('No other %s running' % service_name)\n",
    "    return False\n",
    "\n",
    "base_name = os.path.basename(sys.argv[0])\n",
    "is_running1(base_name)\n",
    "is_running2(base_name)\n",
    "\n",
    "while 1:\n",
    "    time.sleep(1)"
   ]
  },
  {
   "cell_type": "markdown",
   "metadata": {},
   "source": [
    "• 如果有如下文件，记录了用户购买会员权益的订单记录"
   ]
  },
  {
   "cell_type": "code",
   "execution_count": 86,
   "metadata": {},
   "outputs": [
    {
     "name": "stdout",
     "output_type": "stream",
     "text": [
      "20200101\n",
      "days 30\n",
      "days 30\n",
      "days 30\n",
      "days 60\n",
      "result 2000\n",
      "20200102\n",
      "days 30\n",
      "days 30\n",
      "days 30\n",
      "days 60\n",
      "result 3000\n",
      "20200103\n",
      "days 30\n",
      "days 30\n",
      "days 30\n",
      "days 60\n",
      "result 3000\n",
      "20200201\n",
      "days 30\n",
      "days 30\n",
      "days 30\n",
      "days 60\n",
      "result 1333\n",
      "20200229\n",
      "days 30\n",
      "days 30\n",
      "days 30\n",
      "days 60\n",
      "result 1343\n"
     ]
    },
    {
     "data": {
      "text/plain": [
       "1343"
      ]
     },
     "execution_count": 86,
     "metadata": {},
     "output_type": "execute_result"
    }
   ],
   "source": [
    "import datetime\n",
    "\n",
    "\n",
    "def cal(selected_day):\n",
    "    print(selected_day)\n",
    "    result = 0\n",
    "    with open('untitled.txt', 'r') as f:\n",
    "        for line in f.readlines():\n",
    "            import datetime\n",
    "            user_id, cost, start_day, end_day = line.strip().split(',')\n",
    "            start_date = datetime.datetime.strptime(start_day, '%Y%m%d')\n",
    "            end_date = datetime.datetime.strptime(end_day, '%Y%m%d')\n",
    "            \n",
    "            int_vip_days = (end_date - start_date).days + 1\n",
    "            print('days', int_vip_days)\n",
    "            if start_day <= selected_day < end_day:\n",
    "                result += int(cost) // int_vip_days\n",
    "            elif selected_day == end_day:  # 不能整除\n",
    "                result += int(cost) // int_vip_days + int(cost) % int_vip_days\n",
    "    print('result', result)\n",
    "    return result\n",
    "\n",
    "cal('20200101')\n",
    "cal('20200102')\n",
    "cal('20200103')\n",
    "cal('20200201')\n",
    "cal('20200229')"
   ]
  },
  {
   "cell_type": "markdown",
   "metadata": {},
   "source": [
    "## Golang\n",
    "并行访问多个URl如\"https://www.zhihu.com/robots.txt\", \"https://www.douban.com/robots.txt\", 页面结果存入map，并且控制当访问所有页面总时间超过5s时程序结束请求\n"
   ]
  },
  {
   "cell_type": "markdown",
   "metadata": {},
   "source": [
    "抱歉不会GO语言，我可以简单说一下python的思路。\n",
    "并行意味着必须利用多核，就python而言，由于GIL的存在，只能使用多进程来处理并行操作。\n",
    "可以使用multiprocessing库，或使用concurrent.futures中的ProcessPoolExecutor进程池完成任务。"
   ]
  },
  {
   "cell_type": "code",
   "execution_count": null,
   "metadata": {},
   "outputs": [],
   "source": []
  }
 ],
 "metadata": {
  "kernelspec": {
   "display_name": "Python 3",
   "language": "python",
   "name": "python3"
  },
  "language_info": {
   "codemirror_mode": {
    "name": "ipython",
    "version": 3
   },
   "file_extension": ".py",
   "mimetype": "text/x-python",
   "name": "python",
   "nbconvert_exporter": "python",
   "pygments_lexer": "ipython3",
   "version": "3.6.4"
  }
 },
 "nbformat": 4,
 "nbformat_minor": 4
}
